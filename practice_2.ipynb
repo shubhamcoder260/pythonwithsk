{
  "nbformat": 4,
  "nbformat_minor": 0,
  "metadata": {
    "colab": {
      "provenance": [],
      "authorship_tag": "ABX9TyOi1hvsSZNUerhYwCziiGrG",
      "include_colab_link": true
    },
    "kernelspec": {
      "name": "python3",
      "display_name": "Python 3"
    },
    "language_info": {
      "name": "python"
    }
  },
  "cells": [
    {
      "cell_type": "markdown",
      "metadata": {
        "id": "view-in-github",
        "colab_type": "text"
      },
      "source": [
        "<a href=\"https://colab.research.google.com/github/shubhamcoder260/pythonwithsk/blob/main/practice_2.ipynb\" target=\"_parent\"><img src=\"https://colab.research.google.com/assets/colab-badge.svg\" alt=\"Open In Colab\"/></a>"
      ]
    },
    {
      "cell_type": "code",
      "execution_count": null,
      "metadata": {
        "id": "ItplcUyacLZH"
      },
      "outputs": [],
      "source": [
        "try:\n",
        "  def fibonacci_series(n):\n",
        "    series =[]\n",
        "    a, b = 0,1\n",
        "    while a<=n:\n",
        "        series.append(a)\n",
        "        a,b=b,a+b\n",
        "    return series\n",
        "  user=int(input('enter any number : '))\n",
        "  print(fibonacci_series(user))\n",
        "  print('no error')\n",
        "\n",
        "except:\n",
        "  print('something is error')\n",
        "\n"
      ]
    },
    {
      "cell_type": "code",
      "source": [
        "try:\n",
        "\n",
        "  print(\"Hello, world!\")\n",
        "  print(undefined_variable)\n",
        "  my_list = [1, 2, 3]\n",
        "  print(my_list[3])\n",
        "  result = \"10\" + 5\n",
        "  result = 10 / 0\n",
        "\n",
        "\n",
        "except Exception as e:\n",
        "        print(e)\n",
        "\n",
        "\n",
        "\n",
        "\n"
      ],
      "metadata": {
        "id": "YUCodfIyhDfr"
      },
      "execution_count": null,
      "outputs": []
    },
    {
      "cell_type": "markdown",
      "source": [
        "syntax error\n",
        "name error\n",
        "index error\n",
        "type error\n",
        "zerodivision error"
      ],
      "metadata": {
        "id": "gXa-D_aDiFuL"
      }
    }
  ]
}