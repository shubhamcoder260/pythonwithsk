{
  "nbformat": 4,
  "nbformat_minor": 0,
  "metadata": {
    "colab": {
      "provenance": [],
      "authorship_tag": "ABX9TyNPRLuEv7PFSPufVYr626XD",
      "include_colab_link": true
    },
    "kernelspec": {
      "name": "python3",
      "display_name": "Python 3"
    },
    "language_info": {
      "name": "python"
    }
  },
  "cells": [
    {
      "cell_type": "markdown",
      "metadata": {
        "id": "view-in-github",
        "colab_type": "text"
      },
      "source": [
        "<a href=\"https://colab.research.google.com/github/shubhamcoder260/pythonwithsk/blob/main/problems_basics.ipynb\" target=\"_parent\"><img src=\"https://colab.research.google.com/assets/colab-badge.svg\" alt=\"Open In Colab\"/></a>"
      ]
    },
    {
      "cell_type": "code",
      "execution_count": null,
      "metadata": {
        "colab": {
          "base_uri": "https://localhost:8080/"
        },
        "id": "YoHEz2z9weo_",
        "outputId": "1189558e-00a1-44be-a8e9-32635a84bb70"
      },
      "outputs": [
        {
          "output_type": "stream",
          "name": "stdout",
          "text": [
            "6\n"
          ]
        }
      ],
      "source": [
        "def factorial(n):\n",
        "  if n==0 or n==1:\n",
        "    return 1\n",
        "  else:\n",
        "    return n*factorial(n-1)\n",
        "print(factorial(3))"
      ]
    },
    {
      "cell_type": "code",
      "source": [
        "n=int(input('enter any number'))\n",
        "if n%2==0 and n%3==0 and n%5==0:\n",
        "  print('not prime')\n",
        "else:\n",
        "  print('prime')\n"
      ],
      "metadata": {
        "colab": {
          "base_uri": "https://localhost:8080/"
        },
        "id": "qlOw-WZSwweO",
        "outputId": "d2499ad1-b659-41c6-e622-fd4c99a41592"
      },
      "execution_count": null,
      "outputs": [
        {
          "output_type": "stream",
          "name": "stdout",
          "text": [
            "enter any number36\n",
            "prime\n"
          ]
        }
      ]
    },
    {
      "cell_type": "code",
      "source": [
        "total=1\n",
        "n=int(input('enter a number'))\n",
        "for i in range(n+1):\n",
        "  total+=i\n",
        "print(total)\n",
        "\n"
      ],
      "metadata": {
        "colab": {
          "base_uri": "https://localhost:8080/"
        },
        "id": "jtrckrY20z6l",
        "outputId": "1f1be5b5-e7f9-4a44-a42a-7b6542e3190d"
      },
      "execution_count": null,
      "outputs": [
        {
          "output_type": "stream",
          "name": "stdout",
          "text": [
            "enter a number3\n",
            "7\n"
          ]
        }
      ]
    },
    {
      "cell_type": "code",
      "source": [
        "def fibonacci_series(n):\n",
        "    series =[]\n",
        "    a, b = 0,1\n",
        "    while a<=n:\n",
        "        series.append(a)\n",
        "        a,b=b,a+b\n",
        "    return series\n",
        "\n",
        "print(fibonacci_series(3))\n"
      ],
      "metadata": {
        "colab": {
          "base_uri": "https://localhost:8080/"
        },
        "id": "RlFX9R-156jF",
        "outputId": "b2ea0679-3773-463e-daec-eaa2c218ab0d"
      },
      "execution_count": null,
      "outputs": [
        {
          "output_type": "stream",
          "name": "stdout",
          "text": [
            "[0, 1, 1, 2, 3]\n"
          ]
        }
      ]
    },
    {
      "cell_type": "markdown",
      "source": [],
      "metadata": {
        "id": "g34V2K0Z9H5W"
      }
    },
    {
      "cell_type": "code",
      "source": [
        "text='my name is pushpa chaudhary and i am a ad student and i dont like studying and hareram is gay'\n",
        "print(text.count())\n"
      ],
      "metadata": {
        "colab": {
          "base_uri": "https://localhost:8080/"
        },
        "id": "dwSC76lG8yUL",
        "outputId": "9ce11d2a-9053-49b4-f51e-87d287dfcf2e"
      },
      "execution_count": null,
      "outputs": [
        {
          "output_type": "stream",
          "name": "stdout",
          "text": [
            "1\n"
          ]
        }
      ]
    },
    {
      "cell_type": "code",
      "source": [
        "lis=[1,44,65,3,4,5,78]\n",
        "lis.sort()\n",
        "print(lis)\n"
      ],
      "metadata": {
        "colab": {
          "base_uri": "https://localhost:8080/"
        },
        "id": "wkUXWmvj-OpS",
        "outputId": "10944309-7f38-4505-dbfe-7e3881552b2d"
      },
      "execution_count": null,
      "outputs": [
        {
          "output_type": "stream",
          "name": "stdout",
          "text": [
            "[1, 3, 4, 5, 44, 65, 78]\n"
          ]
        }
      ]
    },
    {
      "cell_type": "code",
      "source": [
        "matrix=[\n",
        "    [1,2,3]\n",
        "    [3,4,5]\n",
        "    [5,6,7]\n",
        "]\n",
        "print(matrix)"
      ],
      "metadata": {
        "id": "fqmvX2RgfzAV"
      },
      "execution_count": null,
      "outputs": []
    },
    {
      "cell_type": "markdown",
      "source": [],
      "metadata": {
        "id": "hfIOZAMv9CZ8"
      }
    },
    {
      "cell_type": "markdown",
      "source": [],
      "metadata": {
        "id": "F8oemFFa0gwg"
      }
    }
  ]
}