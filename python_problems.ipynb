{
  "nbformat": 4,
  "nbformat_minor": 0,
  "metadata": {
    "colab": {
      "provenance": [],
      "authorship_tag": "ABX9TyNBI7sUrF0IyuZGzZ0nN5s1",
      "include_colab_link": true
    },
    "kernelspec": {
      "name": "python3",
      "display_name": "Python 3"
    },
    "language_info": {
      "name": "python"
    }
  },
  "cells": [
    {
      "cell_type": "markdown",
      "metadata": {
        "id": "view-in-github",
        "colab_type": "text"
      },
      "source": [
        "<a href=\"https://colab.research.google.com/github/shubhamcoder260/pythonwithsk/blob/main/python_problems.ipynb\" target=\"_parent\"><img src=\"https://colab.research.google.com/assets/colab-badge.svg\" alt=\"Open In Colab\"/></a>"
      ]
    },
    {
      "cell_type": "code",
      "execution_count": null,
      "metadata": {
        "colab": {
          "base_uri": "https://localhost:8080/"
        },
        "id": "GeyulC4jMNMK",
        "outputId": "907710e2-e8b5-40ed-ff13-4022e5f094f9"
      },
      "outputs": [
        {
          "output_type": "stream",
          "name": "stdout",
          "text": [
            "Enter first number: 23\n",
            "Enter second number: 2\n",
            "Sum of 23.0 and 2.0 is: 25.0\n"
          ]
        }
      ],
      "source": [
        "# Develop a python program to add two numbers by getting input from the user.\n",
        "\n",
        "num1 = float(input(\"Enter first number: \"))\n",
        "num2 = float(input(\"Enter second number: \"))\n",
        "\n",
        "sum = num1 + num2\n",
        "\n",
        "print(\"Sum of {} and {} is: {}\".format(num1, num2, sum))\n"
      ]
    },
    {
      "cell_type": "code",
      "source": [
        "#Develop a python program to Calculate Simple Interest\n",
        "principal = float(input(\"Enter principal amount: \"))\n",
        "rate = float(input(\"Enter annual interest rate (%): \"))\n",
        "time = float(input(\"Enter time in years: \"))\n",
        "\n",
        "simple_interest = (principal * rate * time) / 100\n",
        "\n",
        "print(\"Simple Interest:\", simple_interest)\n"
      ],
      "metadata": {
        "colab": {
          "base_uri": "https://localhost:8080/"
        },
        "id": "6Muagpq-NhlX",
        "outputId": "43c48684-5055-49c2-eec0-c478b505dcc1"
      },
      "execution_count": null,
      "outputs": [
        {
          "output_type": "stream",
          "name": "stdout",
          "text": [
            "Enter principal amount: 2300\n",
            "Enter annual interest rate (%): 23\n",
            "Enter time in years: 12\n",
            "Simple Interest: 6348.0\n"
          ]
        }
      ]
    },
    {
      "cell_type": "code",
      "source": [
        "# Develop a python program to Calculate BMI (Body Mass Index)\n",
        "\n",
        "weight = float(input(\"Enter weight in kg: \"))\n",
        "height = float(input(\"Enter height in meters: \"))\n",
        "\n",
        "\n",
        "bmi = weight / (height ** 2)\n",
        "\n",
        "print(\"BMI:\", bmi)\n"
      ],
      "metadata": {
        "colab": {
          "base_uri": "https://localhost:8080/"
        },
        "id": "jMRlb4MtNhwn",
        "outputId": "20707926-1e68-4513-96ce-d09aa949c4e8"
      },
      "execution_count": null,
      "outputs": [
        {
          "output_type": "stream",
          "name": "stdout",
          "text": [
            "Enter weight in kg: 69\n",
            "Enter height in meters: 156\n",
            "BMI: 0.0028353057199211047\n"
          ]
        }
      ]
    },
    {
      "cell_type": "code",
      "source": [
        "# Write a Python program to check if a given number is even or odd.\n",
        "\n",
        "num = int(input(\"Enter a number: \"))\n",
        "\n",
        "if num % 2 == 0:\n",
        "    print(num, \"is even.\")\n",
        "else:\n",
        "    print(num, \"is odd.\")\n"
      ],
      "metadata": {
        "colab": {
          "base_uri": "https://localhost:8080/"
        },
        "id": "ujnaQN2KNh8_",
        "outputId": "054d8590-2ab2-49ad-d9c1-89e05f90e93f"
      },
      "execution_count": null,
      "outputs": [
        {
          "output_type": "stream",
          "name": "stdout",
          "text": [
            "Enter a number: 4567\n",
            "4567 is odd.\n"
          ]
        }
      ]
    },
    {
      "cell_type": "code",
      "source": [
        "#Can you create a Python program to find the largest among three numbers using nested\n",
        "num1 = float(input(\"Enter first number: \"))\n",
        "num2 = float(input(\"Enter second number: \"))\n",
        "num3 = float(input(\"Enter third number: \"))\n",
        "\n",
        "if num1 >= num2:\n",
        "    if num1 >= num3:\n",
        "        largest = num1\n",
        "    else:\n",
        "        largest = num3\n",
        "else:\n",
        "    if num2 >= num3:\n",
        "        largest = num2\n",
        "    else:\n",
        "        largest = num3\n",
        "\n",
        "print(\"The largest number among {}, {}, and {} is# Output: {}\".format(num1, num2, num3, largest))\n"
      ],
      "metadata": {
        "colab": {
          "base_uri": "https://localhost:8080/"
        },
        "id": "uyGVdwFiNie_",
        "outputId": "82f7d8fc-61c1-4a6d-bfbf-3183061bfb50"
      },
      "execution_count": null,
      "outputs": [
        {
          "output_type": "stream",
          "name": "stdout",
          "text": [
            "Enter first number: 23\n",
            "Enter second number: 34\n",
            "Enter third number: 56\n",
            "The largest number among 23.0, 34.0, and 56.0 is# Output: 56.0\n"
          ]
        }
      ]
    },
    {
      "cell_type": "code",
      "source": [
        "#Write a Python program to print the multiplication table of a given number.\n",
        "num = int(input(\"Enter a number to print its multiplication table: \"))\n",
        "\n",
        "print(\"Multiplication table of\", num)\n",
        "for i in range(1, 11):\n",
        "    print(num, \"x\", i, \"=\", num * i)\n"
      ],
      "metadata": {
        "colab": {
          "base_uri": "https://localhost:8080/"
        },
        "id": "bMTNxpePNih0",
        "outputId": "b003d9fb-f6b5-4ad4-82a4-b4d0b3b420b5"
      },
      "execution_count": null,
      "outputs": [
        {
          "output_type": "stream",
          "name": "stdout",
          "text": [
            "Enter a number to print its multiplication table: 56\n",
            "Multiplication table of 56\n",
            "56 x 1 = 56\n",
            "56 x 2 = 112\n",
            "56 x 3 = 168\n",
            "56 x 4 = 224\n",
            "56 x 5 = 280\n",
            "56 x 6 = 336\n",
            "56 x 7 = 392\n",
            "56 x 8 = 448\n",
            "56 x 9 = 504\n",
            "56 x 10 = 560\n"
          ]
        }
      ]
    },
    {
      "cell_type": "code",
      "source": [
        "#Write a Python program to find the sum of all numbers stored in a list using a for loop.\n",
        "numbers = [int(x) for x in input(\"Enter numbers separated by space: \").split()]\n",
        "\n",
        "total = 0\n",
        "for num in numbers:\n",
        "    total += num\n",
        "\n",
        "print(\"Sum of numbers in the list:\", total)\n"
      ],
      "metadata": {
        "colab": {
          "base_uri": "https://localhost:8080/"
        },
        "id": "5xf23pwNNiko",
        "outputId": "3f088341-376e-4c83-fe4d-0aa703da8f6a"
      },
      "execution_count": null,
      "outputs": [
        {
          "output_type": "stream",
          "name": "stdout",
          "text": [
            "Enter numbers separated by space: 2 3 4\n",
            "Sum of numbers in the list: 9\n"
          ]
        }
      ]
    },
    {
      "cell_type": "code",
      "source": [
        "# Get an integer input from a user. If the number is odd, then find the factorial of a number\n",
        "# and find the number of digits in the factorial of the number. If the number is even, then\n",
        "# check the given number is palindrome or not.\n",
        "def factorial(n):\n",
        "    if n == 0:\n",
        "        return 1\n",
        "    else:\n",
        "        return n * factorial(n-1)\n",
        "\n",
        "def count_digits(number):\n",
        "    return len(str(number))\n",
        "\n",
        "def is_palindrome(number):\n",
        "    return str(number) == str(number)[::-1]\n",
        "\n",
        "num = int(input(\"Enter an integer: \"))\n",
        "\n",
        "if num % 2 != 0:\n",
        "    fact = factorial(num)\n",
        "    print(\"Factorial of\", num, \"is:\", fact)\n",
        "    digits = count_digits(fact)\n",
        "    print(\"Number of digits in factorial of\", num, \"is:\", digits)\n",
        "    if is_palindrome(num):\n",
        "        print(num, \"is a palindrome.\")\n",
        "    else:\n",
        "        print(num, \"is not a palindrome.\")\n"
      ],
      "metadata": {
        "colab": {
          "base_uri": "https://localhost:8080/"
        },
        "id": "Gpqdzov7OJmI",
        "outputId": "3cc5190f-74a4-41a3-c4ca-4f083d9f0ca9"
      },
      "execution_count": null,
      "outputs": [
        {
          "output_type": "stream",
          "name": "stdout",
          "text": [
            "Enter an integer: 45\n",
            "Factorial of 45 is: 119622220865480194561963161495657715064383733760000000000\n",
            "Number of digits in factorial of 45 is: 57\n",
            "45 is not a palindrome.\n"
          ]
        }
      ]
    },
    {
      "cell_type": "code",
      "source": [
        "#Given two strings, PRINT (YES or NO) whether the second string can be obtained from\n",
        "#the first by deletion of none, one or more characters.\n",
        "def can_obtain(s1, s2):\n",
        "    i = 0\n",
        "    j = 0\n",
        "    while i < len(s1) and j < len(s2):\n",
        "        if s1[i] == s2[j]:\n",
        "            j += 1\n",
        "        i += 1\n",
        "    return j == len(s2)\n",
        "\n",
        "s1 = input(\"Enter the first string: \")\n",
        "s2 = input(\"Enter the second string: \")\n",
        "\n",
        "if can_obtain(s1, s2):\n",
        "    print(\"YES\")\n",
        "else:\n",
        "    print(\"NO\")\n"
      ],
      "metadata": {
        "colab": {
          "base_uri": "https://localhost:8080/"
        },
        "id": "72PXuAJlOLuN",
        "outputId": "613542e5-7a69-48bf-a379-3f424f1b3935"
      },
      "execution_count": null,
      "outputs": [
        {
          "output_type": "stream",
          "name": "stdout",
          "text": [
            "Enter the first string: hello\n",
            "Enter the second string: hell\n",
            "YES\n"
          ]
        }
      ]
    },
    {
      "cell_type": "code",
      "source": [
        "#Write a Python program that takes a string as input and reverses it. Print the\n",
        "#reversed string.\n",
        "def reverse_string(s):\n",
        "    return s[::-1]\n",
        "\n",
        "string = input(\"Enter a string: \")\n",
        "reversed_string = reverse_string(string)\n",
        "print(\"Reversed string:\", reversed_string)\n"
      ],
      "metadata": {
        "colab": {
          "base_uri": "https://localhost:8080/"
        },
        "id": "KJF5Y7skOLw_",
        "outputId": "49dfcafb-8128-4140-a870-bd9221601c3c"
      },
      "execution_count": null,
      "outputs": [
        {
          "output_type": "stream",
          "name": "stdout",
          "text": [
            "Enter a string: prem_kushwaha\n",
            "Reversed string: ahawhsuk_merp\n"
          ]
        }
      ]
    },
    {
      "cell_type": "code",
      "source": [
        "#Write a Python program that takes a string as input and counts the number of\n",
        "#vowels and consonants in it. Print the counts of both vowels and consonants\n",
        "def count_vowels_and_consonants(s):\n",
        "    vowels = 0\n",
        "    consonants = 0\n",
        "    for char in s:\n",
        "        if char.lower() in 'aeiou':\n",
        "            vowels += 1\n",
        "        elif char.isalpha():\n",
        "            consonants += 1\n",
        "    return vowels, consonants\n",
        "\n",
        "string = input(\"Enter a string: \")\n",
        "vowels, consonants = count_vowels_and_consonants(string)\n",
        "print(\"Number of vowels:\", vowels)\n",
        "print(\"Number of consonants:\", consonants)\n"
      ],
      "metadata": {
        "colab": {
          "base_uri": "https://localhost:8080/"
        },
        "id": "nYALF2H_OLzg",
        "outputId": "91afcfd1-6c31-4afd-ef9d-1e89a6c2ddd8"
      },
      "execution_count": null,
      "outputs": [
        {
          "output_type": "stream",
          "name": "stdout",
          "text": [
            "Enter a string: my name is prem kushwaha\n",
            "Number of vowels: 7\n",
            "Number of consonants: 13\n"
          ]
        }
      ]
    },
    {
      "cell_type": "code",
      "source": [
        "# Write a Python program to check if a given string is a palindrome. A palindrome\n",
        "# is a word, phrase, number, or other sequences of characters that reads the same\n",
        "# forward and backward.\n",
        "def is_palindrome(s):\n",
        "    return s == s[::-1]\n",
        "\n",
        "string = input(\"Enter a string: \")\n",
        "if is_palindrome(string):\n",
        "    print(\"The string is a palindrome.\")\n",
        "else:\n",
        "    print(\"The string is not a palindrome.\")\n"
      ],
      "metadata": {
        "colab": {
          "base_uri": "https://localhost:8080/"
        },
        "id": "W3UTZ0_zOL2U",
        "outputId": "f058fbf8-3c1c-441c-eca7-a654d9792e7d"
      },
      "execution_count": null,
      "outputs": [
        {
          "output_type": "stream",
          "name": "stdout",
          "text": [
            "Enter a string: noon\n",
            "The string is a palindrome.\n"
          ]
        }
      ]
    },
    {
      "cell_type": "code",
      "source": [
        "# Write a Python program that takes a string as input and counts the number of\n",
        "# words in it. Print the total count of words in the input string\n",
        "def count_words(s):\n",
        "    return len(s.split())\n",
        "\n",
        "string = input(\"Enter a string: \")\n",
        "word_count = count_words(string)\n",
        "print(\"Total number of words in the string:\", word_count)\n"
      ],
      "metadata": {
        "colab": {
          "base_uri": "https://localhost:8080/"
        },
        "id": "_qRLfzosOS0o",
        "outputId": "00219e88-fd82-489c-c84e-fa4df4acd1f8"
      },
      "execution_count": null,
      "outputs": [
        {
          "output_type": "stream",
          "name": "stdout",
          "text": [
            "Enter a string: i am prem and this is my program\n",
            "Total number of words in the string: 8\n"
          ]
        }
      ]
    },
    {
      "cell_type": "code",
      "source": [
        "# Programs for positive and negative indexing.\n",
        "string = \"Hello, World!\"\n",
        "print(\"Positive indexing:\")\n",
        "for i in range(len(string)):\n",
        "    print(\"Index\", i, \":\", string[i])\n",
        "\n",
        "print(\"\\nNegative indexing:\")\n",
        "for i in range(-1, -len(string) - 1, -1):\n",
        "    print(\"Index\", i, \":\", string[i])\n"
      ],
      "metadata": {
        "colab": {
          "base_uri": "https://localhost:8080/"
        },
        "id": "5oWURrXfOWou",
        "outputId": "072513f5-865a-44a1-d76e-43a987c236f6"
      },
      "execution_count": null,
      "outputs": [
        {
          "output_type": "stream",
          "name": "stdout",
          "text": [
            "Positive indexing:\n",
            "Index 0 : H\n",
            "Index 1 : e\n",
            "Index 2 : l\n",
            "Index 3 : l\n",
            "Index 4 : o\n",
            "Index 5 : ,\n",
            "Index 6 :  \n",
            "Index 7 : W\n",
            "Index 8 : o\n",
            "Index 9 : r\n",
            "Index 10 : l\n",
            "Index 11 : d\n",
            "Index 12 : !\n",
            "\n",
            "Negative indexing:\n",
            "Index -1 : !\n",
            "Index -2 : d\n",
            "Index -3 : l\n",
            "Index -4 : r\n",
            "Index -5 : o\n",
            "Index -6 : W\n",
            "Index -7 :  \n",
            "Index -8 : ,\n",
            "Index -9 : o\n",
            "Index -10 : l\n",
            "Index -11 : l\n",
            "Index -12 : e\n",
            "Index -13 : H\n"
          ]
        }
      ]
    },
    {
      "cell_type": "code",
      "source": [],
      "metadata": {
        "id": "MiCQB60nwG-h"
      },
      "execution_count": null,
      "outputs": []
    },
    {
      "cell_type": "code",
      "source": [
        "# Program to check if the given list is in Ascending order or not.\n",
        "def is_ascending(lst):\n",
        "    for i in range(len(lst) - 1):\n",
        "        if lst[i] > lst[i + 1]:\n",
        "            return False\n",
        "    return True\n",
        "\n",
        "numbers = [int(x) for x in input(\"Enter numbers separated by space: \").split()]\n",
        "if is_ascending(numbers):\n",
        "    print(\"The list is in ascending order.\")\n",
        "else:\n",
        "    print(\"The list is not in ascending order.\")\n"
      ],
      "metadata": {
        "colab": {
          "base_uri": "https://localhost:8080/"
        },
        "id": "byHdmbgqOWtI",
        "outputId": "4d66c576-1239-4573-956c-9433699fd6f6"
      },
      "execution_count": null,
      "outputs": [
        {
          "output_type": "stream",
          "name": "stdout",
          "text": [
            "Enter numbers separated by space: 1 2 3 4 55 66 23 11 0\n",
            "The list is not in ascending order.\n"
          ]
        }
      ]
    },
    {
      "cell_type": "markdown",
      "source": [],
      "metadata": {
        "id": "udwY4p29Osb-"
      }
    }
  ]
}